{
 "cells": [
  {
   "cell_type": "code",
   "execution_count": 8,
   "id": "5a54894c-5398-41df-bdd6-797d3aff8e0a",
   "metadata": {},
   "outputs": [
    {
     "name": "stdout",
     "output_type": "stream",
     "text": [
      "Accuracy: 1.0\n",
      "Perceptron Confusion Matrix:\n",
      " [[13  0  0]\n",
      " [ 0  9  0]\n",
      " [ 0  0  1]]\n"
     ]
    },
    {
     "name": "stderr",
     "output_type": "stream",
     "text": [
      "C:\\Users\\My PC\\AppData\\Local\\Programs\\Python\\Python310\\lib\\site-packages\\sklearn\\utils\\validation.py:1300: DataConversionWarning: A column-vector y was passed when a 1d array was expected. Please change the shape of y to (n_samples, ), for example using ravel().\n",
      "  y = column_or_1d(y, warn=True)\n"
     ]
    }
   ],
   "source": [
    "#Import required libraries\n",
    "from sklearn.datasets import load_iris\n",
    "from sklearn.linear_model import Perceptron\n",
    "from sklearn.model_selection import train_test_split\n",
    "from sklearn.metrics import accuracy_score\n",
    "from sklearn.metrics import confusion_matrix\n",
    "import pandas as pd\n",
    "\n",
    "#Load the Iris dataset\n",
    "iris = load_iris()\n",
    "\n",
    "#View the iris data keys\n",
    "iris.keys()\n",
    "\n",
    "#it is a key of dictionary iris\n",
    "iris.target_names\n",
    "\n",
    "##Convert data and target into a data frame.\n",
    "#Extract the First 100 Features\n",
    "X = pd.DataFrame(data = iris.data[:112], columns = iris.feature_names)\n",
    "X.head(112) \n",
    "\n",
    "#Inspect the features\n",
    "#Target\n",
    "y = pd.DataFrame(data=iris.target[:112], columns = ['irisType'])\n",
    "y.head(112)\n",
    "\n",
    "# Split the dataset into training and testing sets\n",
    "X_train, X_test, y_train, y_test = train_test_split(X, y, test_size=0.2, random_state=42)\n",
    "\n",
    "# Create a Perceptron classifier\n",
    "mdlPercept = Perceptron()\n",
    "\n",
    "# Train the classifier\n",
    "mdlPercept.fit(X_train, y_train)\n",
    "\n",
    "# Make predictions on the test set\n",
    "y_pred = mdlPercept.predict(X_test)\n",
    "\n",
    "# Calculate accuracy of the classifier\n",
    "accuracy = accuracy_score(y_test, y_pred)\n",
    "print(\"Accuracy:\", accuracy)\n",
    "\n",
    "#Generate the Confusion Matrix\n",
    "print(\"Perceptron Confusion Matrix:\\n\",confusion_matrix(y_test, y_pred))"
   ]
  },
  {
   "cell_type": "code",
   "execution_count": 1,
   "id": "4eb886d3-aaf1-4fd9-8f0e-c9e9cd4eeaaa",
   "metadata": {},
   "outputs": [
    {
     "name": "stdout",
     "output_type": "stream",
     "text": [
      "Accuracy: 0.9545454545454546\n",
      "Perceptron Confusion Matrix:\n",
      " [[10  0  0]\n",
      " [ 0 11  0]\n",
      " [ 0  1  0]]\n"
     ]
    },
    {
     "name": "stderr",
     "output_type": "stream",
     "text": [
      "c:\\Users\\My PC\\AppData\\Local\\Programs\\Python\\Python310\\lib\\site-packages\\sklearn\\utils\\validation.py:1300: DataConversionWarning: A column-vector y was passed when a 1d array was expected. Please change the shape of y to (n_samples, ), for example using ravel().\n",
      "  y = column_or_1d(y, warn=True)\n"
     ]
    }
   ],
   "source": [
    "#Import required libraries\n",
    "from sklearn.datasets import load_iris\n",
    "from sklearn.linear_model import Perceptron\n",
    "from sklearn.model_selection import train_test_split\n",
    "from sklearn.metrics import accuracy_score\n",
    "from sklearn.metrics import confusion_matrix\n",
    "import pandas as pd\n",
    "\n",
    "#Load the Iris dataset, (109 Features from..100 + (matric number % 50))\n",
    "iris = load_iris()\n",
    "#View the iris data keys\n",
    "iris.keys()\n",
    "\n",
    "#it is a key of dictionary iris\n",
    "iris.target_names\n",
    "\n",
    "##Convert data and target into a data frame.\n",
    "#Extract the First 100 Features\n",
    "X = pd.DataFrame(data = iris.data[:109,:], columns = iris.feature_names)\n",
    "X.head(109) \n",
    "\n",
    "#Inspect the features\n",
    "#Target\n",
    "y = pd.DataFrame(data=iris.target[:109], columns = ['irisType'])\n",
    "y.head(109)\n",
    "# Split the dataset into training and testing sets\n",
    "X_train, X_test, y_train, y_test = train_test_split(X, y, test_size=0.2, random_state=42)\n",
    "\n",
    "# Create a Perceptron classifier\n",
    "mdlPercept = Perceptron()\n",
    "# Train the classifier\n",
    "mdlPercept.fit(X_train, y_train)\n",
    "# Make predictions on the test set\n",
    "y_pred = mdlPercept.predict(X_test)\n",
    "# Calculate accuracy of the classifier\n",
    "accuracy = accuracy_score(y_test, y_pred)\n",
    "print(\"Accuracy:\", accuracy)\n",
    "#Generate the Confusion Matrix\n",
    "print(\"Perceptron Confusion Matrix:\\n\",confusion_matrix(y_test, y_pred))"
   ]
  },
  {
   "cell_type": "code",
   "execution_count": 2,
   "id": "ec06742c-0728-4b6b-9ca0-ce9c431f04bd",
   "metadata": {},
   "outputs": [
    {
     "name": "stdout",
     "output_type": "stream",
     "text": [
      "Accuracy: 0.7272727272727273\n",
      "Perceptron Confusion Matrix:\n",
      " [[ 5  6]\n",
      " [ 0 11]]\n"
     ]
    },
    {
     "name": "stderr",
     "output_type": "stream",
     "text": [
      "c:\\Users\\My PC\\AppData\\Local\\Programs\\Python\\Python310\\lib\\site-packages\\sklearn\\utils\\validation.py:1300: DataConversionWarning: A column-vector y was passed when a 1d array was expected. Please change the shape of y to (n_samples, ), for example using ravel().\n",
      "  y = column_or_1d(y, warn=True)\n"
     ]
    }
   ],
   "source": [
    "#FOR DATASET OF WINE\n",
    "\n",
    "#Import required libraries\n",
    "from sklearn.datasets import load_wine\n",
    "from sklearn.linear_model import Perceptron\n",
    "from sklearn.model_selection import train_test_split\n",
    "from sklearn.metrics import accuracy_score\n",
    "from sklearn.metrics import confusion_matrix\n",
    "import pandas as pd\n",
    "\n",
    "#Load the Wine dataset\n",
    "Wine = load_wine()\n",
    "\n",
    "#View the wine data keys\n",
    "Wine.keys()\n",
    "\n",
    "#it is a key of dictionary iris\n",
    "Wine.target_names\n",
    "\n",
    "##Convert data and target into a data frame.\n",
    "#Extract the First 109 Features\n",
    "X = pd.DataFrame(data = Wine.data[:109,:], columns = Wine.feature_names)\n",
    "X.head(109) \n",
    "\n",
    "#Inspect the features\n",
    "#Target\n",
    "y = pd.DataFrame(data=Wine.target[:109], columns = ['WineType'])\n",
    "y.head(109)\n",
    "\n",
    "# Split the dataset into training and testing sets\n",
    "X_train, X_test, y_train, y_test = train_test_split(X, y, test_size=0.2, random_state=42)\n",
    "\n",
    "# Create a Perceptron classifier\n",
    "mdlPercept = Perceptron()\n",
    "\n",
    "# Train the classifier\n",
    "mdlPercept.fit(X_train, y_train)\n",
    "\n",
    "# Make predictions on the test set\n",
    "y_pred = mdlPercept.predict(X_test)\n",
    "\n",
    "# Calculate accuracy of the classifier\n",
    "accuracy = accuracy_score(y_test, y_pred)\n",
    "print(\"Accuracy:\", accuracy)\n",
    "\n",
    "#Generate the Confusion Matrix\n",
    "print(\"Perceptron Confusion Matrix:\\n\",confusion_matrix(y_test, y_pred))"
   ]
  },
  {
   "cell_type": "code",
   "execution_count": 3,
   "id": "23bd4910",
   "metadata": {},
   "outputs": [
    {
     "name": "stdout",
     "output_type": "stream",
     "text": [
      "Accuracy: 0.8181818181818182\n",
      "Perceptron Confusion Matrix:\n",
      " [[15  0]\n",
      " [ 4  3]]\n"
     ]
    },
    {
     "name": "stderr",
     "output_type": "stream",
     "text": [
      "c:\\Users\\My PC\\AppData\\Local\\Programs\\Python\\Python310\\lib\\site-packages\\sklearn\\utils\\validation.py:1300: DataConversionWarning: A column-vector y was passed when a 1d array was expected. Please change the shape of y to (n_samples, ), for example using ravel().\n",
      "  y = column_or_1d(y, warn=True)\n"
     ]
    }
   ],
   "source": [
    "#USING THE breast_cancer dataset\n",
    "\n",
    "#Import required libraries\n",
    "from sklearn.datasets import load_breast_cancer\n",
    "from sklearn.linear_model import Perceptron\n",
    "from sklearn.model_selection import train_test_split\n",
    "from sklearn.metrics import accuracy_score\n",
    "from sklearn.metrics import confusion_matrix\n",
    "import pandas as pd\n",
    "\n",
    "#Load the Iris dataset, (109 Features from..100 + (matric number % 50))\n",
    "breast_cancer = load_breast_cancer()\n",
    "#View the breast cancer data keys\n",
    "breast_cancer.keys()\n",
    "\n",
    "#it is a key of dictionary iris\n",
    "breast_cancer.target_names\n",
    "\n",
    "##Convert data and target into a data frame.\n",
    "#Extract the First 100 Features\n",
    "X = pd.DataFrame(data = breast_cancer.data[:109,:], columns = breast_cancer.feature_names)\n",
    "X.head(109) \n",
    "\n",
    "#Inspect the features\n",
    "#Target\n",
    "y = pd.DataFrame(data=breast_cancer.target[:109], columns = ['breastCancerType'])\n",
    "y.head(109)\n",
    "# Split the dataset into training and testing sets\n",
    "X_train, X_test, y_train, y_test = train_test_split(X, y, test_size=0.2, random_state=42)\n",
    "\n",
    "# Create a Perceptron classifier\n",
    "mdlPercept = Perceptron()\n",
    "\n",
    "# Train the classifier\n",
    "mdlPercept.fit(X_train, y_train)\n",
    "\n",
    "# Make predictions on the test set\n",
    "y_pred = mdlPercept.predict(X_test)\n",
    "\n",
    "# Calculate accuracy of the classifier\n",
    "accuracy = accuracy_score(y_test, y_pred)\n",
    "print(\"Accuracy:\", accuracy)\n",
    "\n",
    "#Generate the Confusion Matrix\n",
    "print(\"Perceptron Confusion Matrix:\\n\",confusion_matrix(y_test, y_pred))"
   ]
  },
  {
   "cell_type": "code",
   "execution_count": 1,
   "id": "12c51bd8-8ebd-4d17-aab5-d8e6183b4277",
   "metadata": {},
   "outputs": [
    {
     "name": "stdout",
     "output_type": "stream",
     "text": [
      "Accuracy: 0.9736842105263158\n",
      "Confusion Matrix:\n",
      " [[41  2]\n",
      " [ 1 70]]\n"
     ]
    }
   ],
   "source": [
    "#ASSIGNMENT MOD 4B\n",
    "\n",
    "# Import required libraries\n",
    "import pandas as pd\n",
    "from sklearn.datasets import load_breast_cancer\n",
    "from sklearn.model_selection import train_test_split\n",
    "from sklearn.preprocessing import StandardScaler\n",
    "from sklearn.neural_network import MLPClassifier\n",
    "from sklearn.metrics import accuracy_score, confusion_matrix\n",
    "\n",
    "# Load the Breast Cancer dataset\n",
    "breast_cancer = load_breast_cancer()\n",
    "\n",
    "# Convert data and target into a DataFrame\n",
    "X = pd.DataFrame(data=breast_cancer.data, columns=breast_cancer.feature_names)\n",
    "y = pd.DataFrame(data=breast_cancer.target, columns=['target'])\n",
    "\n",
    "# Split the dataset into training and testing sets\n",
    "X_train, X_test, y_train, y_test = train_test_split(X, y, test_size=0.2, random_state=42)\n",
    "\n",
    "# Standardize the features\n",
    "scaler = StandardScaler()\n",
    "X_train = scaler.fit_transform(X_train)\n",
    "X_test = scaler.transform(X_test)\n",
    "\n",
    "# Create a MLP Classifier\n",
    "mlp = MLPClassifier(hidden_layer_sizes=(100,), max_iter=300, random_state=42)\n",
    "\n",
    "# Train the classifier\n",
    "mlp.fit(X_train, y_train.values.ravel())\n",
    "\n",
    "# Make predictions on the test set\n",
    "y_pred = mlp.predict(X_test)\n",
    "\n",
    "# Calculate accuracy of the classifier\n",
    "accuracy = accuracy_score(y_test, y_pred)\n",
    "print(\"Accuracy:\", accuracy)\n",
    "\n",
    "# Generate the Confusion Matrix\n",
    "conf_matrix = confusion_matrix(y_test, y_pred)\n",
    "print(\"Confusion Matrix:\\n\", conf_matrix)\n"
   ]
  },
  {
   "cell_type": "code",
   "execution_count": null,
   "id": "b1803526-72ff-4784-a8e9-8e7c4232777e",
   "metadata": {},
   "outputs": [],
   "source": []
  }
 ],
 "metadata": {
  "kernelspec": {
   "display_name": "Python 3 (ipykernel)",
   "language": "python",
   "name": "python3"
  },
  "language_info": {
   "codemirror_mode": {
    "name": "ipython",
    "version": 3
   },
   "file_extension": ".py",
   "mimetype": "text/x-python",
   "name": "python",
   "nbconvert_exporter": "python",
   "pygments_lexer": "ipython3",
   "version": "3.10.5"
  }
 },
 "nbformat": 4,
 "nbformat_minor": 5
}
