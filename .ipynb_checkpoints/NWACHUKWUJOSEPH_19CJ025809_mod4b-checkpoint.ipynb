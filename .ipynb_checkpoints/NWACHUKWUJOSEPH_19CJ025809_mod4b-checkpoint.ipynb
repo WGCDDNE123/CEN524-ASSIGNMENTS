{
 "cells": [
  {
   "cell_type": "code",
   "execution_count": 1,
   "id": "b14cef8d-d67b-468b-bae7-0610b722fcae",
   "metadata": {},
   "outputs": [],
   "source": [
    "#Import the required libraries\n",
    "import tensorflow as tf\n",
    "import numpy as np\n",
    "from tensorflow.keras.losses import MeanAbsoluteError\n",
    "from tensorflow.keras.losses import MeanSquaredError\n",
    "from tensorflow.keras.losses import CategoricalCrossentropy\n",
    "from tensorflow.keras.losses import SparseCategoricalCrossentropy"
   ]
  },
  {
   "cell_type": "code",
   "execution_count": null,
   "id": "80b2d393-d320-4243-8b86-c2f5576dc279",
   "metadata": {},
   "outputs": [],
   "source": [
    "##Define y_true and y_pred for a regression task\n",
    "y_true = np.array([1., 0.])\n",
    "y_pred = np.array([2., 3.])\n",
    "\n",
    "#Compute and Print the MAE\n",
    "mae_loss = MeanAbsoluteError()\n",
    "print(\"The Mean Absolute Error is - \",mae_loss(y_true, y_pred).numpy())\n",
    "\n",
    "#Compute and Print the MSE\n",
    "mse_loss = MeanSquaredError()\n",
    "print(\"\")\n",
    "print(\"The Mean Square Error is - \",mse_loss(y_true, y_pred).numpy())\n",
    "\n",
    "##Define y_true and y_pred for a classification task\n",
    "#Use one hot vector representation\n",
    "y_true = np.array([[0, 1, 0], [1, 0, 0]])\n",
    "y_pred = np.array([[0.15, 0.75, 0.1], [0.75, 0.15, 0.1]])\n"
   ]
  }
 ],
 "metadata": {
  "kernelspec": {
   "display_name": "Python 3 (ipykernel)",
   "language": "python",
   "name": "python3"
  },
  "language_info": {
   "codemirror_mode": {
    "name": "ipython",
    "version": 3
   },
   "file_extension": ".py",
   "mimetype": "text/x-python",
   "name": "python",
   "nbconvert_exporter": "python",
   "pygments_lexer": "ipython3",
   "version": "3.10.5"
  }
 },
 "nbformat": 4,
 "nbformat_minor": 5
}
